{
 "cells": [
  {
   "cell_type": "code",
   "execution_count": 21,
   "id": "cf47a0d8-deaf-4373-97b0-d294c7d7c926",
   "metadata": {},
   "outputs": [
    {
     "ename": "SyntaxError",
     "evalue": "invalid syntax (1561551793.py, line 1)",
     "output_type": "error",
     "traceback": [
      "\u001b[0;36m  Cell \u001b[0;32mIn[21], line 1\u001b[0;36m\u001b[0m\n\u001b[0;31m    write%% app.py\u001b[0m\n\u001b[0m          ^\u001b[0m\n\u001b[0;31mSyntaxError\u001b[0m\u001b[0;31m:\u001b[0m invalid syntax\n"
     ]
    }
   ],
   "source": [
    "%%writefile qabot.py\n",
    "from flask import Flask, request, jsonify, send_from_directory\n",
    "from transformers import AutoTokenizer, AutoModelForQuestionAnswering\n",
    "import torch\n",
    "import logging\n",
    "\n",
    "# Setup logging\n",
    "logging.basicConfig(level=logging.DEBUG)\n",
    "\n",
    "app = Flask(__name__, static_folder='.', static_url_path='')\n",
    "\n",
    "# Load the fine-tuned model and tokenizer\n",
    "model_path = \"./fine_tuned_roberta\"\n",
    "try:\n",
    "    tokenizer = AutoTokenizer.from_pretrained(model_path)\n",
    "    model = AutoModelForQuestionAnswering.from_pretrained(model_path)\n",
    "except Exception as e:\n",
    "    logging.error(f\"Error loading model or tokenizer: {e}\")\n",
    "    raise e\n",
    "\n",
    "@app.route('/bot', methods=['POST'])\n",
    "def bot():\n",
    "    try:\n",
    "        data = request.get_json()\n",
    "        context = data['context']\n",
    "        question = data['question']\n",
    "\n",
    "        inputs = tokenizer(question, context, return_tensors='pt')\n",
    "        with torch.no_grad():\n",
    "            outputs = model(**inputs)\n",
    "\n",
    "        answer_start = torch.argmax(outputs.start_logits)\n",
    "        answer_end = torch.argmax(outputs.end_logits) + 1\n",
    "\n",
    "        # Ensure the indices are within the bounds of the context length\n",
    "        answer_start = min(answer_start.item(), len(inputs['input_ids'][0]) - 1)\n",
    "        answer_end = min(answer_end.item(), len(inputs['input_ids'][0]))\n",
    "\n",
    "        answer_tokens = tokenizer.convert_ids_to_tokens(inputs['input_ids'][0][answer_start:answer_end])\n",
    "        answer = tokenizer.convert_tokens_to_string(answer_tokens)\n",
    "\n",
    "        # Ensure the answer is legible and remove any special tokens\n",
    "        if tokenizer.pad_token is not None:\n",
    "            answer = answer.replace(tokenizer.pad_token, '')\n",
    "        if tokenizer.sep_token is not None:\n",
    "            answer = answer.replace(tokenizer.sep_token, '')\n",
    "        if tokenizer.cls_token is not None:\n",
    "            answer = answer.replace(tokenizer.cls_token, '')\n",
    "        \n",
    "        answer = answer.strip()\n",
    "\n",
    "        # Remove the extension logic to avoid truncation issues\n",
    "        additional_tokens = tokenizer.convert_ids_to_tokens(inputs['input_ids'][0][answer_end:])\n",
    "        additional_text = tokenizer.convert_tokens_to_string(additional_tokens)\n",
    "        answer += ' ' + additional_text.strip()\n",
    "\n",
    "        return jsonify({'answer': answer})\n",
    "    except Exception as e:\n",
    "        logging.error(f\"Error in bot endpoint: {e}\")\n",
    "        return jsonify({'error': str(e)}), 100\n",
    "\n",
    "@app.route('/')\n",
    "def index():\n",
    "    return send_from_directory('.', 'index.html')\n",
    "\n",
    "@app.route('/background.jpg')\n",
    "def background():\n",
    "    return send_from_directory('.', 'background.jpg')\n",
    "\n",
    "if __name__ == '__main__':\n",
    "    app.run(port=5001)\n"
   ]
  },
  {
   "cell_type": "code",
   "execution_count": null,
   "id": "b8de1129-2a95-4698-bb92-ae006014d5ab",
   "metadata": {},
   "outputs": [],
   "source": []
  },
  {
   "cell_type": "code",
   "execution_count": null,
   "id": "7593c215-7bd7-498e-96d0-921149e6ef51",
   "metadata": {},
   "outputs": [],
   "source": []
  },
  {
   "cell_type": "code",
   "execution_count": null,
   "id": "3a05d104-ebdc-415c-b5ef-49fbe817ee89",
   "metadata": {},
   "outputs": [],
   "source": []
  }
 ],
 "metadata": {
  "kernelspec": {
   "display_name": "Python 3 (ipykernel)",
   "language": "python",
   "name": "python3"
  },
  "language_info": {
   "codemirror_mode": {
    "name": "ipython",
    "version": 3
   },
   "file_extension": ".py",
   "mimetype": "text/x-python",
   "name": "python",
   "nbconvert_exporter": "python",
   "pygments_lexer": "ipython3",
   "version": "3.11.7"
  }
 },
 "nbformat": 4,
 "nbformat_minor": 5
}
